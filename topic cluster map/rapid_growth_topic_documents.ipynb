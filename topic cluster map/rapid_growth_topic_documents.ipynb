{
 "cells": [
  {
   "cell_type": "code",
   "execution_count": 1,
   "id": "971906fa",
   "metadata": {},
   "outputs": [],
   "source": [
    "import pandas as pd \n",
    "import numpy as np \n",
    "from bertopic import BERTopic \n",
    "import os\n",
    "from sklearn.cluster import KMeans\n",
    "from sklearn.feature_extraction.text import CountVectorizer\n",
    "import joblib\n",
    "from sklearn.manifold import TSNE\n",
    "import seaborn as sns\n",
    "import matplotlib.pyplot as plt"
   ]
  },
  {
   "cell_type": "code",
   "execution_count": 2,
   "id": "e8b9a12c",
   "metadata": {},
   "outputs": [],
   "source": [
    "df_topic_growth_top10 = pd.read_csv('D:/abstract/wos_0531/bib_360446/topic_growth_top10.csv')"
   ]
  },
  {
   "cell_type": "code",
   "execution_count": 3,
   "id": "b5e64f5f",
   "metadata": {},
   "outputs": [
    {
     "data": {
      "text/html": [
       "<div>\n",
       "<style scoped>\n",
       "    .dataframe tbody tr th:only-of-type {\n",
       "        vertical-align: middle;\n",
       "    }\n",
       "\n",
       "    .dataframe tbody tr th {\n",
       "        vertical-align: top;\n",
       "    }\n",
       "\n",
       "    .dataframe thead th {\n",
       "        text-align: right;\n",
       "    }\n",
       "</style>\n",
       "<table border=\"1\" class=\"dataframe\">\n",
       "  <thead>\n",
       "    <tr style=\"text-align: right;\">\n",
       "      <th></th>\n",
       "      <th>0</th>\n",
       "      <th>1</th>\n",
       "      <th>2</th>\n",
       "      <th>3</th>\n",
       "      <th>4</th>\n",
       "      <th>5</th>\n",
       "      <th>6</th>\n",
       "      <th>7</th>\n",
       "      <th>8</th>\n",
       "      <th>9</th>\n",
       "      <th>...</th>\n",
       "      <th>90</th>\n",
       "      <th>91</th>\n",
       "      <th>92</th>\n",
       "      <th>93</th>\n",
       "      <th>94</th>\n",
       "      <th>95</th>\n",
       "      <th>96</th>\n",
       "      <th>97</th>\n",
       "      <th>98</th>\n",
       "      <th>99</th>\n",
       "    </tr>\n",
       "  </thead>\n",
       "  <tbody>\n",
       "    <tr>\n",
       "      <th>0</th>\n",
       "      <td>0</td>\n",
       "      <td>1</td>\n",
       "      <td>0</td>\n",
       "      <td>1</td>\n",
       "      <td>0</td>\n",
       "      <td>1</td>\n",
       "      <td>1</td>\n",
       "      <td>0</td>\n",
       "      <td>0</td>\n",
       "      <td>1</td>\n",
       "      <td>...</td>\n",
       "      <td>0</td>\n",
       "      <td>0</td>\n",
       "      <td>0</td>\n",
       "      <td>0</td>\n",
       "      <td>0</td>\n",
       "      <td>0</td>\n",
       "      <td>0</td>\n",
       "      <td>0</td>\n",
       "      <td>0</td>\n",
       "      <td>0</td>\n",
       "    </tr>\n",
       "    <tr>\n",
       "      <th>1</th>\n",
       "      <td>0</td>\n",
       "      <td>0</td>\n",
       "      <td>0</td>\n",
       "      <td>0</td>\n",
       "      <td>0</td>\n",
       "      <td>0</td>\n",
       "      <td>0</td>\n",
       "      <td>0</td>\n",
       "      <td>0</td>\n",
       "      <td>0</td>\n",
       "      <td>...</td>\n",
       "      <td>0</td>\n",
       "      <td>0</td>\n",
       "      <td>0</td>\n",
       "      <td>0</td>\n",
       "      <td>0</td>\n",
       "      <td>0</td>\n",
       "      <td>0</td>\n",
       "      <td>0</td>\n",
       "      <td>0</td>\n",
       "      <td>1</td>\n",
       "    </tr>\n",
       "    <tr>\n",
       "      <th>2</th>\n",
       "      <td>0</td>\n",
       "      <td>0</td>\n",
       "      <td>0</td>\n",
       "      <td>0</td>\n",
       "      <td>0</td>\n",
       "      <td>0</td>\n",
       "      <td>0</td>\n",
       "      <td>1</td>\n",
       "      <td>0</td>\n",
       "      <td>0</td>\n",
       "      <td>...</td>\n",
       "      <td>1</td>\n",
       "      <td>0</td>\n",
       "      <td>0</td>\n",
       "      <td>0</td>\n",
       "      <td>0</td>\n",
       "      <td>0</td>\n",
       "      <td>0</td>\n",
       "      <td>0</td>\n",
       "      <td>1</td>\n",
       "      <td>0</td>\n",
       "    </tr>\n",
       "  </tbody>\n",
       "</table>\n",
       "<p>3 rows × 100 columns</p>\n",
       "</div>"
      ],
      "text/plain": [
       "   0  1  2  3  4  5  6  7  8  9  ...  90  91  92  93  94  95  96  97  98  99\n",
       "0  0  1  0  1  0  1  1  0  0  1  ...   0   0   0   0   0   0   0   0   0   0\n",
       "1  0  0  0  0  0  0  0  0  0  0  ...   0   0   0   0   0   0   0   0   0   1\n",
       "2  0  0  0  0  0  0  0  1  0  0  ...   1   0   0   0   0   0   0   0   1   0\n",
       "\n",
       "[3 rows x 100 columns]"
      ]
     },
     "execution_count": 3,
     "metadata": {},
     "output_type": "execute_result"
    }
   ],
   "source": [
    "df_topic_growth_top10"
   ]
  },
  {
   "cell_type": "code",
   "execution_count": 5,
   "id": "2f13037d",
   "metadata": {},
   "outputs": [],
   "source": [
    "df_label = pd.read_csv('D:/abstract/wos_0531/bib_360446/unique_multilabel_withlabel.csv', engine='python')"
   ]
  },
  {
   "cell_type": "code",
   "execution_count": 6,
   "id": "d36b56e2",
   "metadata": {},
   "outputs": [
    {
     "data": {
      "text/html": [
       "<div>\n",
       "<style scoped>\n",
       "    .dataframe tbody tr th:only-of-type {\n",
       "        vertical-align: middle;\n",
       "    }\n",
       "\n",
       "    .dataframe tbody tr th {\n",
       "        vertical-align: top;\n",
       "    }\n",
       "\n",
       "    .dataframe thead th {\n",
       "        text-align: right;\n",
       "    }\n",
       "</style>\n",
       "<table border=\"1\" class=\"dataframe\">\n",
       "  <thead>\n",
       "    <tr style=\"text-align: right;\">\n",
       "      <th></th>\n",
       "      <th>Abstract</th>\n",
       "      <th>topic</th>\n",
       "      <th>Research Areas</th>\n",
       "      <th>label</th>\n",
       "      <th>index</th>\n",
       "    </tr>\n",
       "  </thead>\n",
       "  <tbody>\n",
       "    <tr>\n",
       "      <th>0</th>\n",
       "      <td>This paper presents an updated checklist of ma...</td>\n",
       "      <td>13</td>\n",
       "      <td>Marine &amp; Freshwater Biology; Oceanography</td>\n",
       "      <td>Marine &amp; Freshwater Biology</td>\n",
       "      <td>3</td>\n",
       "    </tr>\n",
       "    <tr>\n",
       "      <th>1</th>\n",
       "      <td>Small time behavior of gravity driven free sur...</td>\n",
       "      <td>16</td>\n",
       "      <td>Engineering; Oceanography</td>\n",
       "      <td>Engineering</td>\n",
       "      <td>2</td>\n",
       "    </tr>\n",
       "    <tr>\n",
       "      <th>2</th>\n",
       "      <td>This Collective Article includes records of 29...</td>\n",
       "      <td>13</td>\n",
       "      <td>Fisheries; Geology; Marine &amp; Freshwater Biolog...</td>\n",
       "      <td>Marine &amp; Freshwater Biology</td>\n",
       "      <td>3</td>\n",
       "    </tr>\n",
       "    <tr>\n",
       "      <th>3</th>\n",
       "      <td>This Collective Article presents information a...</td>\n",
       "      <td>13</td>\n",
       "      <td>Fisheries; Geology; Marine &amp; Freshwater Biolog...</td>\n",
       "      <td>Marine &amp; Freshwater Biology</td>\n",
       "      <td>3</td>\n",
       "    </tr>\n",
       "    <tr>\n",
       "      <th>4</th>\n",
       "      <td>The use of pesticides in agriculture has alway...</td>\n",
       "      <td>73</td>\n",
       "      <td>Engineering; Oceanography</td>\n",
       "      <td>Engineering</td>\n",
       "      <td>2</td>\n",
       "    </tr>\n",
       "    <tr>\n",
       "      <th>...</th>\n",
       "      <td>...</td>\n",
       "      <td>...</td>\n",
       "      <td>...</td>\n",
       "      <td>...</td>\n",
       "      <td>...</td>\n",
       "    </tr>\n",
       "    <tr>\n",
       "      <th>334760</th>\n",
       "      <td>The simplicity of the hydrochemical stationari...</td>\n",
       "      <td>40</td>\n",
       "      <td>Engineering; Geology; Water Resources</td>\n",
       "      <td>Water Resources</td>\n",
       "      <td>5</td>\n",
       "    </tr>\n",
       "    <tr>\n",
       "      <th>334761</th>\n",
       "      <td>In many smallholder farms in sub-Saharan Afric...</td>\n",
       "      <td>40</td>\n",
       "      <td>Geology; Meteorology &amp; Atmospheric Sciences; W...</td>\n",
       "      <td>Water Resources</td>\n",
       "      <td>5</td>\n",
       "    </tr>\n",
       "    <tr>\n",
       "      <th>334762</th>\n",
       "      <td>In this study we tested whether we can use a t...</td>\n",
       "      <td>0</td>\n",
       "      <td>Environmental Sciences &amp; Ecology; Remote Sensing</td>\n",
       "      <td>Geology</td>\n",
       "      <td>4</td>\n",
       "    </tr>\n",
       "    <tr>\n",
       "      <th>334763</th>\n",
       "      <td>A novel approach of using variability as a maj...</td>\n",
       "      <td>69</td>\n",
       "      <td>Meteorology &amp; Atmospheric Sciences</td>\n",
       "      <td>Meteorology &amp; Atmospheric Sciences</td>\n",
       "      <td>1</td>\n",
       "    </tr>\n",
       "    <tr>\n",
       "      <th>334764</th>\n",
       "      <td>The dominant climatic mode responsible for sea...</td>\n",
       "      <td>26</td>\n",
       "      <td>Meteorology &amp; Atmospheric Sciences</td>\n",
       "      <td>Meteorology &amp; Atmospheric Sciences</td>\n",
       "      <td>1</td>\n",
       "    </tr>\n",
       "  </tbody>\n",
       "</table>\n",
       "<p>334765 rows × 5 columns</p>\n",
       "</div>"
      ],
      "text/plain": [
       "                                                 Abstract  topic  \\\n",
       "0       This paper presents an updated checklist of ma...     13   \n",
       "1       Small time behavior of gravity driven free sur...     16   \n",
       "2       This Collective Article includes records of 29...     13   \n",
       "3       This Collective Article presents information a...     13   \n",
       "4       The use of pesticides in agriculture has alway...     73   \n",
       "...                                                   ...    ...   \n",
       "334760  The simplicity of the hydrochemical stationari...     40   \n",
       "334761  In many smallholder farms in sub-Saharan Afric...     40   \n",
       "334762  In this study we tested whether we can use a t...      0   \n",
       "334763  A novel approach of using variability as a maj...     69   \n",
       "334764  The dominant climatic mode responsible for sea...     26   \n",
       "\n",
       "                                           Research Areas  \\\n",
       "0               Marine & Freshwater Biology; Oceanography   \n",
       "1                               Engineering; Oceanography   \n",
       "2       Fisheries; Geology; Marine & Freshwater Biolog...   \n",
       "3       Fisheries; Geology; Marine & Freshwater Biolog...   \n",
       "4                               Engineering; Oceanography   \n",
       "...                                                   ...   \n",
       "334760              Engineering; Geology; Water Resources   \n",
       "334761  Geology; Meteorology & Atmospheric Sciences; W...   \n",
       "334762   Environmental Sciences & Ecology; Remote Sensing   \n",
       "334763                 Meteorology & Atmospheric Sciences   \n",
       "334764                 Meteorology & Atmospheric Sciences   \n",
       "\n",
       "                                     label  index  \n",
       "0              Marine & Freshwater Biology      3  \n",
       "1                              Engineering      2  \n",
       "2              Marine & Freshwater Biology      3  \n",
       "3              Marine & Freshwater Biology      3  \n",
       "4                              Engineering      2  \n",
       "...                                    ...    ...  \n",
       "334760                     Water Resources      5  \n",
       "334761                     Water Resources      5  \n",
       "334762                             Geology      4  \n",
       "334763  Meteorology & Atmospheric Sciences      1  \n",
       "334764  Meteorology & Atmospheric Sciences      1  \n",
       "\n",
       "[334765 rows x 5 columns]"
      ]
     },
     "execution_count": 6,
     "metadata": {},
     "output_type": "execute_result"
    }
   ],
   "source": [
    "df_label"
   ]
  },
  {
   "cell_type": "code",
   "execution_count": 15,
   "id": "c38e679b",
   "metadata": {},
   "outputs": [],
   "source": [
    "df = pd.read_csv('D:/abstract/wos_0531/bib_360446/dropna_abstract_334765.csv', engine='python')"
   ]
  },
  {
   "cell_type": "code",
   "execution_count": 16,
   "id": "a8b10e39",
   "metadata": {},
   "outputs": [],
   "source": [
    "year = list(df['Publication Year'])"
   ]
  },
  {
   "cell_type": "code",
   "execution_count": 19,
   "id": "c71dc89b",
   "metadata": {},
   "outputs": [],
   "source": [
    "import math\n",
    "for i in range(len(year)):\n",
    "    if math.isnan(year[i]):\n",
    "        year[i]=2021\n",
    "    else:\n",
    "        year[i]=int(year[i])"
   ]
  },
  {
   "cell_type": "code",
   "execution_count": 20,
   "id": "4a639733",
   "metadata": {},
   "outputs": [
    {
     "data": {
      "text/plain": [
       "334765"
      ]
     },
     "execution_count": 20,
     "metadata": {},
     "output_type": "execute_result"
    }
   ],
   "source": [
    "len(year)"
   ]
  },
  {
   "cell_type": "code",
   "execution_count": 21,
   "id": "67e8c2f1",
   "metadata": {},
   "outputs": [],
   "source": [
    "rapid_growth_1 = np.zeros(334765)\n",
    "rapid_growth_2 = np.zeros(334765)\n",
    "rapid_growth_3 = np.zeros(334765)"
   ]
  },
  {
   "cell_type": "code",
   "execution_count": 11,
   "id": "46fc8a25",
   "metadata": {},
   "outputs": [],
   "source": [
    "topics = list(df_label.loc[:,'topic'])"
   ]
  },
  {
   "cell_type": "code",
   "execution_count": 28,
   "id": "3bf5483c",
   "metadata": {},
   "outputs": [],
   "source": [
    "for i in range(len(topics)):\n",
    "    if df_topic_growth_top10.iloc[0,topics[i]]==1 and year[i]>=1992 and year[i]<=2001:\n",
    "        rapid_growth_1[i] = 1\n",
    "    if df_topic_growth_top10.iloc[1,topics[i]]==1 and year[i]>=2002 and year[i]<=2011:\n",
    "        rapid_growth_2[i] = 1\n",
    "    if df_topic_growth_top10.iloc[2,topics[i]]==1 and year[i]>=2012 and year[i]<=2021:\n",
    "        rapid_growth_3[i] = 1"
   ]
  },
  {
   "cell_type": "code",
   "execution_count": 34,
   "id": "45423fea",
   "metadata": {},
   "outputs": [
    {
     "data": {
      "text/plain": [
       "14006.0"
      ]
     },
     "execution_count": 34,
     "metadata": {},
     "output_type": "execute_result"
    }
   ],
   "source": [
    "sum(rapid_growth_1)"
   ]
  },
  {
   "cell_type": "code",
   "execution_count": 33,
   "id": "7aff0f51",
   "metadata": {},
   "outputs": [],
   "source": [
    "np.save('D:/abstract/wos_0531/bib_360446/rapid_growth_topic_firstdecade.npy',rapid_growth_1)\n",
    "np.save('D:/abstract/wos_0531/bib_360446/rapid_growth_topic_seconddecade.npy',rapid_growth_2)\n",
    "np.save('D:/abstract/wos_0531/bib_360446/rapid_growth_topic_thirddecade.npy',rapid_growth_3)"
   ]
  },
  {
   "cell_type": "code",
   "execution_count": null,
   "id": "81ce99b2",
   "metadata": {},
   "outputs": [],
   "source": []
  }
 ],
 "metadata": {
  "kernelspec": {
   "display_name": "Python 3 (ipykernel)",
   "language": "python",
   "name": "python3"
  },
  "language_info": {
   "codemirror_mode": {
    "name": "ipython",
    "version": 3
   },
   "file_extension": ".py",
   "mimetype": "text/x-python",
   "name": "python",
   "nbconvert_exporter": "python",
   "pygments_lexer": "ipython3",
   "version": "3.9.12"
  }
 },
 "nbformat": 4,
 "nbformat_minor": 5
}
