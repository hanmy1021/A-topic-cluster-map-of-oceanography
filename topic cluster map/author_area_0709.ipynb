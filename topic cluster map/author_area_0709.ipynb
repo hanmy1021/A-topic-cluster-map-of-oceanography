{
 "cells": [
  {
   "cell_type": "code",
   "execution_count": 5,
   "id": "c7c50f1a",
   "metadata": {},
   "outputs": [],
   "source": [
    "import pandas as pd"
   ]
  },
  {
   "cell_type": "code",
   "execution_count": 6,
   "id": "f17651b7",
   "metadata": {},
   "outputs": [
    {
     "name": "stderr",
     "output_type": "stream",
     "text": [
      "C:\\Users\\Velaciela\\AppData\\Local\\Temp\\ipykernel_75944\\3819218601.py:1: DtypeWarning: Columns (2,6,7,11,47,50,58,59,73) have mixed types. Specify dtype option on import or set low_memory=False.\n",
      "  df = pd.read_csv('D:/abstract/wos_0531/bib_360446/drop_duplicates_353659.csv')\n"
     ]
    }
   ],
   "source": [
    "df = pd.read_csv('D:/abstract/wos_0531/bib_360446/drop_duplicates_353659.csv')"
   ]
  },
  {
   "cell_type": "code",
   "execution_count": 7,
   "id": "9371a524",
   "metadata": {},
   "outputs": [],
   "source": [
    "ab = list(df['Abstract'])"
   ]
  },
  {
   "cell_type": "code",
   "execution_count": 65,
   "id": "bfc5008b",
   "metadata": {},
   "outputs": [],
   "source": [
    "name = []\n",
    "email = []\n",
    "for i in range(len(df)):\n",
    "    if df.loc[i, 'Times Cited, WoS Core'] >= 100 and df.loc[i, 'Publication Year'] >= 2000:\n",
    "        ab = df.loc[i, 'Abstract']\n",
    "        if type(ab)!=float:\n",
    "            if 'observation data' in ab or 'Observation data' in ab:\n",
    "                name.append(df.loc[i, 'Authors'])\n",
    "                email.append(df.loc[i, 'Email Addresses'])"
   ]
  },
  {
   "cell_type": "code",
   "execution_count": 67,
   "id": "6a48d398",
   "metadata": {},
   "outputs": [
    {
     "name": "stdout",
     "output_type": "stream",
     "text": [
      "Odermatt, D; Gitelson, A; Brando, VE; Schaepman, M\n",
      "daniel.odermatt@geo.uzh.ch\n",
      "\n",
      "\n",
      "Holmes, KW; Van Niel, KP; Radford, B; Kendrick, GA; Grove, SL\n",
      "kholmes@segs.uwa.edu.au\n",
      "\n",
      "\n",
      "Lambeck, K; Purcell, A\n",
      "kurt.lambeck@anu.edu.au\n",
      "\n",
      "\n",
      "Bauer-Marschallingere, B; Freeman, V; Cao, S; Paulik, C; Schaufler, S; Stachl, T; Modanesi, S; Massario, C; Ciabatta, L; Brocca, L; Wagner, W\n",
      "bbm@geo.tuwien.ac.at; vahid.freeman@geo.tuwien.ac.at; senmao.cao@geo.tuwien.ac.at; cpaulik@vandersat.com; schaufler.stefan@gmail.com; tobias.stachl@geo.tuwien.ac.at; sara.modanesi@irpicnr.it; christian.massari@irpi.cnr.it; luca.ciabatta@irpi.cnr.it; luca.brocca@irpi.cnr.it; wolfgang.wagner@geo.tuwien.ac.at\n",
      "\n",
      "\n",
      "Ham, YG; Kim, JH; Luo, JJ\n",
      "ygham@jnu.ac.kr\n",
      "\n",
      "\n",
      "Kuang, XX; Jiao, JJ\n",
      "hkukxx@hku.hk\n",
      "\n",
      "\n",
      "Wang, W; Zhu, Y; Xu, RG; Liu, JT\n",
      "w.wang@126.com\n",
      "\n",
      "\n",
      "Wang, J; Li, X; Lu, L; Fang, F\n",
      "wangjing1102@126.com; lixin@lzb.ac.cn\n",
      "\n",
      "\n",
      "Tan, ZH; Zhang, YP; Song, QH; Liu, WJ; Deng, XB; Tang, JW; Deng, Y; Zhou, WJ; Yang, LY; Yu, GR; Sun, XM; Liang, NS\n",
      "yipingzh@xtbg.ac.cn\n",
      "\n",
      "\n",
      "Guntner, A\n",
      "guentner@gfz-potsdam.de\n",
      "\n",
      "\n",
      "Zainuddin, M; Saitoh, K; Saitoh, SI\n",
      "mukti_fishocean@yahoo.co.id\n",
      "\n",
      "\n",
      "Mori, S; Hamada, JI; Tauhid, YI; Yamanaka, MD; Okamoto, N; Murata, F; Sakurai, N; Hashiguchi, H; Sribimawati, T\n",
      "morishu@jamstec.go.jp\n",
      "\n",
      "\n",
      "Syed, FS; Giorgi, F; Pal, JS; King, MP\n",
      "nan\n",
      "\n",
      "\n",
      "Bayissa, Y; Tadesse, T; Demisse, G; Shiferaw, A\n",
      "yared2002@gmail.com; ttadesse2@unl.edu; gdemisse2@unl.edu; andus@huskers.unl.edu\n",
      "\n",
      "\n",
      "Xu, CY; Singh, VP\n",
      "Chong.yu.Xu@hyd.uu.se\n",
      "\n",
      "\n",
      "Zuo, H; Balmaseda, MA; Tietsche, S; Mogensen, K; Mayer, M\n",
      "hao.zuo@ecmwf.int\n",
      "\n",
      "\n",
      "Gutmann, E; Pruitt, T; Clark, MP; Brekke, L; Arnold, JR; Raff, DA; Rasmussen, RM\n",
      "gutmann@ucar.edu\n",
      "\n",
      "\n",
      "Mu, QZ; Zhao, MS; Heinsch, FA; Liu, ML; Tian, HQ; Running, SW\n",
      "qiaozhen@ntsg.umt.edu\n",
      "\n",
      "\n"
     ]
    }
   ],
   "source": [
    "for i in range(len(name)):\n",
    "    print(name[i])\n",
    "    print(email[i])\n",
    "    print('\\n')"
   ]
  },
  {
   "cell_type": "code",
   "execution_count": 66,
   "id": "559c61ae",
   "metadata": {},
   "outputs": [
    {
     "data": {
      "text/plain": [
       "18"
      ]
     },
     "execution_count": 66,
     "metadata": {},
     "output_type": "execute_result"
    }
   ],
   "source": [
    "len(name)"
   ]
  },
  {
   "cell_type": "code",
   "execution_count": null,
   "id": "7ba6960e",
   "metadata": {},
   "outputs": [],
   "source": []
  }
 ],
 "metadata": {
  "kernelspec": {
   "display_name": "Python 3 (ipykernel)",
   "language": "python",
   "name": "python3"
  },
  "language_info": {
   "codemirror_mode": {
    "name": "ipython",
    "version": 3
   },
   "file_extension": ".py",
   "mimetype": "text/x-python",
   "name": "python",
   "nbconvert_exporter": "python",
   "pygments_lexer": "ipython3",
   "version": "3.9.12"
  }
 },
 "nbformat": 4,
 "nbformat_minor": 5
}
