{
 "cells": [
  {
   "cell_type": "code",
   "execution_count": 1,
   "id": "babc1279",
   "metadata": {},
   "outputs": [],
   "source": [
    "import matplotlib.pyplot as plt\n",
    "import numpy as np\n",
    "import pandas as pd\n",
    "plt.rcParams['font.sans-serif']=['SimHei'] #正常显示中文\n",
    "plt.rcParams['axes.unicode_minus']=False #正常显示负号\n",
    "  \n",
    "# d=pd.read_excel('E:\\Python\\projects\\data\\data100.xlsx',header=None)\n",
    "# d=d[0]\n",
    "# d=list(d)\n",
    "  \n",
    "x = [1992,1993,1994,1995,1996,1997,1998,1999,2000,2001,2002,2003,2004,2005,2006,2007,2008,2009,2010,2011,2012, 2013, 2014, 2015, 2016, 2017, 2018, 2019, 2020, 2021]\n",
    "y = [4002,5224,6710,4955,5219,5810,6039,6036,7492,6921,7125,8225,8093,8412,7997,9599,10414,11584,11304,11354,12096,14526,16485,18058,18986,20593,24221,26564,26587,21875]"
   ]
  },
  {
   "cell_type": "code",
   "execution_count": 65,
   "id": "56897bf3",
   "metadata": {},
   "outputs": [
    {
     "name": "stderr",
     "output_type": "stream",
     "text": [
      "C:\\Users\\Velaciela\\AppData\\Local\\Temp\\ipykernel_45292\\2563383004.py:8: UserWarning: FixedFormatter should only be used together with FixedLocator\n",
      "  ax.set_xticklabels(x_ticks,fontsize=16)\n",
      "C:\\Users\\Velaciela\\AppData\\Local\\Temp\\ipykernel_45292\\2563383004.py:10: UserWarning: FixedFormatter should only be used together with FixedLocator\n",
      "  ax.set_yticklabels(y_ticks,fontsize=16)\n"
     ]
    },
    {
     "data": {
      "image/png": "[encoded data removed]",
      "text/plain": [
       "<Figure size 720x576 with 1 Axes>"
      ]
     },
     "metadata": {
      "needs_background": "light"
     },
     "output_type": "display_data"
    }
   ],
   "source": [
    "c = ['r']*10+['g']*10+['b']*10\n",
    "fig, ax = plt.subplots(figsize=(10, 8))\n",
    "ax.bar(x=x, height=y, color=c)\n",
    "#ax.set_title(\"Simple Bar Plot\", fontsize=15)\n",
    "ax.set_xlabel('Year', fontsize=20)\n",
    "ax.set_ylabel('Number of Publications', fontsize=20)\n",
    "x_ticks = [0,1995,2000,2005,2010,2015,2020]\n",
    "ax.set_xticklabels(x_ticks,fontsize=16)\n",
    "y_ticks = [0,5000,10000,15000,20000,25000]\n",
    "ax.set_yticklabels(y_ticks,fontsize=16)\n",
    "\n",
    "xticks = ax.get_xticks()\n",
    "for i in range(len(y)):\n",
    "    if (i+1)%3 == 0:\n",
    "        xy = (x[i], y[i] * 1.23)\n",
    "        s = str(y[i])\n",
    "        ax.annotate(\n",
    "            text=s,  # 要添加的文本\n",
    "            xy=xy,  # 将文本添加到哪个位置\n",
    "            fontsize=16,  # 标签大小\n",
    "            color=\"black\",  # 标签颜色\n",
    "            ha=\"center\",  # 水平对齐\n",
    "            va=\"baseline\"  # 垂直对齐\n",
    "        )"
   ]
  },
  {
   "cell_type": "code",
   "execution_count": null,
   "id": "53fc4115",
   "metadata": {},
   "outputs": [],
   "source": [
    "print(xticks)"
   ]
  },
  {
   "cell_type": "code",
   "execution_count": 64,
   "id": "28817598",
   "metadata": {},
   "outputs": [
    {
     "data": {
      "text/plain": [
       "['red',\n",
       " 'red',\n",
       " 'red',\n",
       " 'red',\n",
       " 'red',\n",
       " 'red',\n",
       " 'red',\n",
       " 'red',\n",
       " 'red',\n",
       " 'red',\n",
       " 'green',\n",
       " 'green',\n",
       " 'green',\n",
       " 'green',\n",
       " 'green',\n",
       " 'green',\n",
       " 'green',\n",
       " 'green',\n",
       " 'green',\n",
       " 'green',\n",
       " 'color',\n",
       " 'color',\n",
       " 'color',\n",
       " 'color',\n",
       " 'color',\n",
       " 'color',\n",
       " 'color',\n",
       " 'color',\n",
       " 'color',\n",
       " 'color']"
      ]
     },
     "execution_count": 64,
     "metadata": {},
     "output_type": "execute_result"
    }
   ],
   "source": [
    "c"
   ]
  },
  {
   "cell_type": "code",
   "execution_count": null,
   "id": "d8fe7a1c",
   "metadata": {},
   "outputs": [],
   "source": []
  }
 ],
 "metadata": {
  "kernelspec": {
   "display_name": "Python 3 (ipykernel)",
   "language": "python",
   "name": "python3"
  },
  "language_info": {
   "codemirror_mode": {
    "name": "ipython",
    "version": 3
   },
   "file_extension": ".py",
   "mimetype": "text/x-python",
   "name": "python",
   "nbconvert_exporter": "python",
   "pygments_lexer": "ipython3",
   "version": "3.9.12"
  }
 },
 "nbformat": 4,
 "nbformat_minor": 5
}
